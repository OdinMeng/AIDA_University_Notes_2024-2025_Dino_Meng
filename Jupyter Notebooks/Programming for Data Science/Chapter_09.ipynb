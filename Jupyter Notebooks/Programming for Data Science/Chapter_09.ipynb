{
 "cells": [
  {
   "cell_type": "markdown",
   "metadata": {},
   "source": [
    "# Programming for Data Science Summary\n",
    "## Chapter 09 - Handling Dates"
   ]
  },
  {
   "cell_type": "code",
   "execution_count": 2,
   "metadata": {},
   "outputs": [],
   "source": [
    "import pandas as pd\n",
    "from datetime import time, timedelta, date, datetime\n",
    "from dateutil.parser import parse \n",
    "import pytz\n"
   ]
  },
  {
   "cell_type": "markdown",
   "metadata": {},
   "source": [
    "## Datetime Objects"
   ]
  },
  {
   "cell_type": "code",
   "execution_count": 3,
   "metadata": {},
   "outputs": [],
   "source": [
    "# 1. Create new instances\n",
    "time(10, 20, 30, 40) # Create instance of time 10:20:30:40 (hour, minute, second, microsecond)\n",
    "date(2025, 12, 1) # Create instance of date 2025/12/1 (follows order year-month-day)\n",
    "\n",
    "datetime(2025, 12, 1, 10, 20, 30, 40) # Create instance of datetime, combining the previous objects\n",
    "\n",
    "d = date(2025,12,1)\n",
    "t = time(10,11,12)\n",
    "datetime.combine(d, t) # Combine date from two instances\n",
    "\n",
    "timedelta(days=1) # Creates timedelta instance of one day\n",
    "\n",
    "display()"
   ]
  },
  {
   "cell_type": "markdown",
   "metadata": {},
   "source": [
    "See the documentation to see what methods you can use on the objects.\n",
    "\n",
    "https://docs.python.org/3/library/datetime.html#timedelta-objects\n",
    "\n",
    "https://docs.python.org/3/library/datetime.html#date-objects\n",
    "\n",
    "https://docs.python.org/3/library/datetime.html#datetime.date\n",
    "\n",
    "https://docs.python.org/3/library/datetime.html#time-objects\n"
   ]
  },
  {
   "cell_type": "code",
   "execution_count": 5,
   "metadata": {},
   "outputs": [],
   "source": [
    "# 2.1. datetime objects <-> tuples\n",
    "d = datetime(2025, 12, 1, 10, 20, 30, 40)\n",
    "t = d.timetuple()\n",
    "new_d = datetime(*t[:6])\n",
    "\n",
    "display()"
   ]
  },
  {
   "cell_type": "code",
   "execution_count": null,
   "metadata": {},
   "outputs": [],
   "source": [
    "# 2.2. Conversion string <-> datetime objects\n",
    "\n",
    "# str -> date\n",
    "s = '12-01-2024 | 12:38:10'\n",
    "datetime.strptime(s, '%d-%m-%Y | %H:%M:%S') # Can personalize the format in any way, see table below for special characters\n",
    "\n",
    "s = '1, November 23, 10:10am'\n",
    "parse(s) # Works with common cases\n",
    "\n",
    "# date -> str\n",
    "d = datetime(2025, 12, 1, 10, 20, 30, 40)\n",
    "d.strftime('%d-%M-%Y :: %H,%M') # Same as strptime but inverse operation\n",
    "\n",
    "display()\n"
   ]
  },
  {
   "cell_type": "markdown",
   "metadata": {},
   "source": [
    "Time formatting is same as done in the *C programming language*, see the documentation below:\n",
    "\n",
    "https://docs.python.org/3/library/datetime.html#strftime-and-strptime-format-codes"
   ]
  },
  {
   "cell_type": "code",
   "execution_count": 4,
   "metadata": {},
   "outputs": [],
   "source": [
    "# 3. Get functions for current timedate\n",
    "datetime.today() # Get current date\n",
    "datetime.now() # Get current datetime\n",
    "\n",
    "display()"
   ]
  },
  {
   "cell_type": "code",
   "execution_count": 9,
   "metadata": {},
   "outputs": [],
   "source": [
    "# 4. Datetime algebra\n",
    "# Note: datetime algebra operations usually lead to timedelta instances\n",
    "d1 = datetime.today()\n",
    "d2 = datetime(2025,12,1)\n",
    "delta1 = d2-d1\n",
    "\n",
    "# Or you can do operations of type datetime x timedelta -> timedelta\n",
    "d1 = datetime.today()\n",
    "delta = timedelta(days=100)\n",
    "delta2 = d1 + delta\n",
    "\n",
    "display()"
   ]
  },
  {
   "cell_type": "markdown",
   "metadata": {},
   "source": [
    "## 2. Timezones"
   ]
  },
  {
   "cell_type": "code",
   "execution_count": 11,
   "metadata": {},
   "outputs": [],
   "source": [
    "# Handling timezones\n",
    "tokyo_timezone = pytz.timezone('Asia/Tokyo') # create a timezone instance, which will be used to convert timedates\n",
    "rome_timezone = pytz.timezone('Europe/Rome')\n",
    "\n",
    "now = datetime.now()\n",
    "jp_now = tokyo_timezone.localize(now) # datetime -> localized datetime\n",
    "it_now = jp_now.astimezone(rome_timezone) # localized datetime -> another localized datetime"
   ]
  },
  {
   "cell_type": "markdown",
   "metadata": {},
   "source": [
    "## 3. Integration with Pandas"
   ]
  },
  {
   "cell_type": "code",
   "execution_count": null,
   "metadata": {},
   "outputs": [
    {
     "name": "stderr",
     "output_type": "stream",
     "text": [
      "C:\\Users\\ACER\\AppData\\Local\\Temp\\ipykernel_38784\\3857520350.py:4: FutureWarning: Support for nested sequences for 'parse_dates' in pd.read_csv is deprecated. Combine the desired columns with pd.to_datetime after parsing instead.\n",
      "  d = pd.read_csv('dates.csv', parse_dates={\"Date\": [\"Year\", \"Month\", \"Day\"]}) # Parse dates from multiple columns into one single column\n",
      "C:\\Users\\ACER\\AppData\\Local\\Temp\\ipykernel_38784\\3857520350.py:18: FutureWarning: 'M' is deprecated and will be removed in a future version, please use 'ME' instead.\n",
      "  d1.resample('M', on='Date of birth')['Job Title'].agg(pd.Series.mode)\n"
     ]
    }
   ],
   "source": [
    "# 1. Load dataframe and parsing data at the same time\n",
    "d1 = pd.read_csv('data.csv', parse_dates=[\"Date of birth\"]) # Automatically parse dates in the specified list. Might not work\n",
    "\n",
    "d = pd.read_csv('dates.csv', parse_dates={\"Date\": [\"Year\", \"Month\", \"Day\"]}) # Parse dates from multiple columns into one single column\n",
    "\n",
    "raw = pd.read_csv(\"data.csv\")\n",
    "raw['Date of birth'] = pd.to_datetime(raw['Date of birth'], format=\"%Y-%M-%d\", errors=\"coerce\") # Manually parse date\n",
    "    # format allows us to specify format, like in strptime or strftime\n",
    "    # errors allows us to handle cases where parser fails (NaT)\n",
    "\n",
    "# 2. Use datetime methods or attributes\n",
    "d['Date'].dt.year\n",
    "d['Date'].dt.day_of_year\n",
    "d['Date'].dt.month_name()\n",
    "d['Date'].dt.day_name()\n",
    "\n",
    "# 3. Resample method - similar to aggregation\n",
    "d1.resample('M', on='Date of birth')['Job Title'].agg(pd.Series.mode)\n",
    "\n",
    "display()\n"
   ]
  },
  {
   "cell_type": "markdown",
   "metadata": {},
   "source": [
    "For more attributes or methods see Pandas docs:\n",
    "\n",
    "https://pandas.pydata.org/docs/reference/series.html#datetime-properties\n"
   ]
  },
  {
   "cell_type": "markdown",
   "metadata": {},
   "source": []
  }
 ],
 "metadata": {
  "kernelspec": {
   "display_name": "base",
   "language": "python",
   "name": "python3"
  },
  "language_info": {
   "codemirror_mode": {
    "name": "ipython",
    "version": 3
   },
   "file_extension": ".py",
   "mimetype": "text/x-python",
   "name": "python",
   "nbconvert_exporter": "python",
   "pygments_lexer": "ipython3",
   "version": "3.12.7"
  }
 },
 "nbformat": 4,
 "nbformat_minor": 2
}
