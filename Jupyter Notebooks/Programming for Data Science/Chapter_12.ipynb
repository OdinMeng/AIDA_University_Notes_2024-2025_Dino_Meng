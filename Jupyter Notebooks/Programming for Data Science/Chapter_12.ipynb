{
 "cells": [
  {
   "cell_type": "markdown",
   "metadata": {},
   "source": [
    "# Programming for Data Science Summary\n",
    "## Chapter 12 - Handling Text"
   ]
  },
  {
   "cell_type": "code",
   "execution_count": 34,
   "metadata": {},
   "outputs": [],
   "source": [
    "import pandas as pd\n",
    "import regex as re \n",
    "\n",
    "df = pd.read_csv('data.csv')\n",
    "display()"
   ]
  },
  {
   "cell_type": "markdown",
   "metadata": {},
   "source": [
    "### Python Default String Manipulation"
   ]
  },
  {
   "cell_type": "code",
   "execution_count": 33,
   "metadata": {},
   "outputs": [],
   "source": [
    "s = '!My String '\n",
    "n = 123\n",
    "\n",
    "len(s) # Gets string length\n",
    "str(n) # Converts number to string\n",
    "s + \"wow\" # Concatenates strings\n",
    "\"-\".join(['hello', s, 'world']) # Joins list into a string with a separator\n",
    "s[1:3:-1] # String indexing\n",
    "\n",
    "# Manage capitals\n",
    "s.upper()\n",
    "s.lower()\n",
    "s.capitalize()\n",
    "\n",
    "# String to list\n",
    "s.split(' ', maxsplit=1)\n",
    "s.splitlines() # Equivalent to s.split('\\n')\n",
    "\n",
    "# Strip\n",
    "s.strip()\n",
    "s.rstrip()\n",
    "s.lstrip('!') # You can also specify WHAT to strip...\n",
    "\n",
    "# Find + replace\n",
    "s.find('String')\n",
    "s.replace('My', 'No')\n",
    "\n",
    "display()"
   ]
  },
  {
   "cell_type": "markdown",
   "metadata": {},
   "source": [
    "### String Manipulation in Pandas"
   ]
  },
  {
   "cell_type": "code",
   "execution_count": 30,
   "metadata": {},
   "outputs": [],
   "source": [
    "df.Email.str.split('@').str[1] # You can do everything above applied to columns, just call .str before to treat every column as string list\n",
    "\n",
    "display()"
   ]
  },
  {
   "cell_type": "markdown",
   "metadata": {},
   "source": [
    "### Regular Expressions"
   ]
  },
  {
   "cell_type": "code",
   "execution_count": 99,
   "metadata": {},
   "outputs": [
    {
     "data": {
      "text/plain": [
       "'Hello my name is chill guy'"
      ]
     },
     "execution_count": 99,
     "metadata": {},
     "output_type": "execute_result"
    }
   ],
   "source": [
    "# Regular Expressions: main objects and method\n",
    "s = 'Hello my name is Dino'\n",
    "\n",
    "match = re.search(r'Dino', s) # A search returns a Match object\n",
    "bool(match) # If match exists, it's True; otherwise it's False\n",
    "\n",
    "# Find position of a match\n",
    "match.start()\n",
    "match.end()\n",
    "match.span()\n",
    "\n",
    "re.findall('m', s) # Find all instances; only a string\n",
    "\n",
    "re.split(r'\\s', s) # Splits string by a certain pattern\n",
    "\n",
    "re.sub(r'is\\s', 'is not ', s) # Replaces found string\n",
    "\n",
    "# Compiled patterns; you can do the same stuff above but in a more \"structured\" way\n",
    "pattern = re.compile(r'^(.*)is Dino*$')\n",
    "pattern.findall(s)\n",
    "pattern.search(s) \n",
    "pattern.match(s)\n",
    "\n",
    "pattern = re.compile(r'Dino')\n",
    "pattern.sub('chill guy', s)"
   ]
  },
  {
   "cell_type": "code",
   "execution_count": 109,
   "metadata": {},
   "outputs": [],
   "source": [
    "# Integrate with pandas\n",
    "df.Email.str.findall(r'(.*)@.*')\n",
    "df.Email.replace(r'(.*)@', 'fake@', regex=True)\n",
    "\n",
    "display()"
   ]
  }
 ],
 "metadata": {
  "kernelspec": {
   "display_name": "base",
   "language": "python",
   "name": "python3"
  },
  "language_info": {
   "codemirror_mode": {
    "name": "ipython",
    "version": 3
   },
   "file_extension": ".py",
   "mimetype": "text/x-python",
   "name": "python",
   "nbconvert_exporter": "python",
   "pygments_lexer": "ipython3",
   "version": "3.12.7"
  }
 },
 "nbformat": 4,
 "nbformat_minor": 2
}
