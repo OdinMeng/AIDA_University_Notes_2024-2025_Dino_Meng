{
 "cells": [
  {
   "cell_type": "markdown",
   "metadata": {},
   "source": [
    "# Programming for Data Science Summary\n",
    "## Chapter 11 - Web Scraping"
   ]
  },
  {
   "cell_type": "code",
   "execution_count": 49,
   "metadata": {},
   "outputs": [],
   "source": [
    "import requests as re\n",
    "from bs4 import BeautifulSoup as BS\n",
    "from selenium import webdriver\n",
    "from selenium.webdriver.common.by import By\n",
    "import time"
   ]
  },
  {
   "cell_type": "markdown",
   "metadata": {},
   "source": [
    "### Requests\n",
    "Motivation: Get raw text data from websites, or post data to websites"
   ]
  },
  {
   "cell_type": "code",
   "execution_count": 10,
   "metadata": {},
   "outputs": [
    {
     "data": {
      "text/plain": [
       "<bound method Response.json of <Response [405]>>"
      ]
     },
     "execution_count": 10,
     "metadata": {},
     "output_type": "execute_result"
    }
   ],
   "source": [
    "url = r'https://www.google.com'\n",
    "\n",
    "r = re.get(url) # Make a GET request from an url\n",
    "r = re.post(url, data={'test':'test'}) # Make a POST requests containing data\n",
    "\n",
    "r.status_code # Obtain status code of any type of requests\n",
    "r.text # Obtain text data from the request\n",
    "r.json # Get response in JSON format, works when APIs return JSON data structures"
   ]
  },
  {
   "cell_type": "markdown",
   "metadata": {},
   "source": [
    "### BeautifulSoup\n",
    "Motivation: Parse and explore raw HTML text data, usually the crucial step in web scraping"
   ]
  },
  {
   "cell_type": "code",
   "execution_count": 40,
   "metadata": {},
   "outputs": [],
   "source": [
    "url = r'https://en.wikipedia.org/wiki/Web_scraping'\n",
    "r = re.get(url)\n",
    "raw_html = r.text\n",
    "\n",
    "soup = BS(raw_html, 'html.parser') # Instead of html.parser you can put xml.parser, if raw text is XML structured\n",
    "\n",
    "e = soup.find('h1', {'id': 'firstHeading'}) # Find first element of h1 such that its id is firstHeading (or any other specified parameter)\n",
    "e_down = e.find('span') # Find first element of type span \"inside\" the previously found element (navigate downwards)\n",
    "e_up = e_down.find_parent('h1') # Find parent of element with such type\n",
    "\n",
    "e = soup.find('a')\n",
    "e_next = e.find_next('a') # Find next element <a> (navigate sideways)\n",
    "e_prev = e.find_previous('a') # Find previous element <a>\n",
    "\n",
    "elements = soup.find_all('p') # Return a list of elements type p\n",
    "\n",
    "e.text # Retrieve text content from an element\n",
    "e.get('href') # Get an attribute\n",
    "e['href'] # Equivalent but will raise an error if it does not exist\n",
    "\n",
    "display()"
   ]
  },
  {
   "cell_type": "markdown",
   "metadata": {},
   "source": [
    "### Selenium\n",
    "Motivation: Interact with dynamic websites"
   ]
  },
  {
   "cell_type": "code",
   "execution_count": null,
   "metadata": {},
   "outputs": [],
   "source": [
    "url = r'https://www.novaims.unl.pt/'\n",
    "\n",
    "driver = webdriver.Firefox() # Opens a Firefox window\n",
    "    # Other browsers can be used, as long as they support selenium\n",
    "\n",
    "driver.get(url) # Makes a GET request\n",
    "driver.page_source # Gets current HTML source\n",
    "\n",
    "time.sleep(1)\n",
    "\n",
    "xpath = r'/html/body/div[2]/div/div/div/div/div[3]/div[1]/button[3]'\n",
    "e = driver.find_element(By.XPATH, xpath)\n",
    "    # Other options for by: By.NAME, By.TAGNAME, ...\n",
    "e.text # Get text from element\n",
    "e.click() # Click button\n",
    "    # Other options: e.send_keys(s), e.get_attribute(attribute), ...\n",
    "\n",
    "time.sleep(1)\n",
    "\n",
    "driver.get('https://www.google.com')\n",
    "driver.back() # Go backward in browser history\n",
    "driver.forward() # Go forward\n",
    "\n",
    "# You can also switch between windows and frames, but we won't cover that...\n",
    "\n",
    "driver.quit() # Closes the browser window\n"
   ]
  },
  {
   "cell_type": "code",
   "execution_count": null,
   "metadata": {},
   "outputs": [],
   "source": []
  }
 ],
 "metadata": {
  "kernelspec": {
   "display_name": "base",
   "language": "python",
   "name": "python3"
  },
  "language_info": {
   "codemirror_mode": {
    "name": "ipython",
    "version": 3
   },
   "file_extension": ".py",
   "mimetype": "text/x-python",
   "name": "python",
   "nbconvert_exporter": "python",
   "pygments_lexer": "ipython3",
   "version": "3.12.7"
  }
 },
 "nbformat": 4,
 "nbformat_minor": 2
}
