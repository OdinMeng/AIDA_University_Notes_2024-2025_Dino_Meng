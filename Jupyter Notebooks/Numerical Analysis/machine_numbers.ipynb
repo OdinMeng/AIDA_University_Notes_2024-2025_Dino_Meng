{
 "cells": [
  {
   "cell_type": "markdown",
   "metadata": {},
   "source": [
    "## An Introduction\n",
    "Let $x \\in \\mathbb R$. A possible representation of that number is binary is as follows:\n",
    "$$\n",
    "x = \\operatorname{sgn}{x} \\cdot 2^e\\left(\\sum_{k\\geq1}d_k 2^{-k}\\right)\n",
    "$$\n",
    "Where $e$ is the exponent, $(d_k)_{k \\geq 1} \\supset \\{0,1\\}$ s.t. $d_1 = 1$\n",
    "\n",
    "In a calculator (i.e. machine), we can only have a finite amount of range-values for $e$, and of the sequence $(d_k)_k$ aswell. Therefore we will truncate those numbers by:\n",
    "- Defining the lower and upper bounds $L, U$ for $e$ s.t. $e \\in [L, U]$\n",
    "- Define an upper bound for $(d_k)_{1 \\leq k \\leq t}$.\n",
    "\n",
    "Therefore the set of *machine numbers* is defined as $\\mathbb F(2,t,L,U)$:\n",
    "$$\n",
    "\\mathbb F(2,t,L,U) := \\left\\{x : x=(-1)^s 2^e\\sum_{k\\leq t}d_k2^{-k}\\right\\} \\cup \\{0\\}\n",
    "$$\n",
    "\n",
    "## About this notebook\n",
    "The goal of this notebook is to *generate* and *visualize* the set $\\mathbb F(2,t,L,U)$ with Python and necessary frameworks, such as NumPy or Matplotlib."
   ]
  },
  {
   "cell_type": "code",
   "execution_count": 48,
   "metadata": {},
   "outputs": [],
   "source": [
    "import numpy as np \n",
    "import matplotlib.pyplot as plt \n",
    "from itertools import product\n",
    "from tqdm import tqdm"
   ]
  },
  {
   "cell_type": "code",
   "execution_count": 125,
   "metadata": {},
   "outputs": [],
   "source": [
    "def GenerateMachineNumbers(t: int, L: int, U: int) -> np.array:\n",
    "    \"\"\"\n",
    "    Generate the set of machine numbers in base B=2, with parameters defined above.\n",
    "    \"\"\"\n",
    "\n",
    "    # Validate inputs\n",
    "    if t < 1:\n",
    "        raise Exception(\"Invalid value t. It must be equal or greater than one.\")\n",
    "    if L>=0 or U <=0: \n",
    "        raise Exception(\"Invalid values for the lower/upper bound. The lower bound must be negative and the upper bound must be positive\")\n",
    "\n",
    "    # Define matrix with 0\n",
    "    F: np.array = np.array([0])\n",
    "\n",
    "    # Start filling F by experimenting with every single combination of s, significand and exponent.\n",
    "    for s in [0, 1]:\n",
    "        for e in range(L, U+1):\n",
    "            for combination in product([0, 1], repeat=t-1):\n",
    "                significand = 0.5\n",
    "\n",
    "                for i, digit in enumerate(combination):\n",
    "                    significand += (digit * 2**(-i-2))\n",
    "\n",
    "                number = (-1)**s * 2**e * significand\n",
    "                \n",
    "                F = np.append(F, number)\n",
    "\n",
    "    return np.sort(F)"
   ]
  },
  {
   "cell_type": "code",
   "execution_count": 127,
   "metadata": {},
   "outputs": [],
   "source": [
    "my_numbers = (GenerateMachineNumbers(3, -1, 2))"
   ]
  },
  {
   "cell_type": "markdown",
   "metadata": {},
   "source": [
    "Now let us plot this set:"
   ]
  },
  {
   "cell_type": "code",
   "execution_count": 244,
   "metadata": {},
   "outputs": [],
   "source": [
    "# Code taken from Matplotlib documentation\n",
    "import matplotlib.ticker as ticker\n",
    "\n",
    "# Setup a plot such that only the bottom spine is shown\n",
    "def setup(ax, L: np.array):\n",
    "    ax.spines['right'].set_color('none')\n",
    "    ax.spines['left'].set_color('none')\n",
    "    ax.yaxis.set_major_locator(ticker.NullLocator())\n",
    "    ax.spines['top'].set_color('none')\n",
    "    ax.xaxis.set_ticks_position('bottom')\n",
    "    ax.tick_params(which='major', width=1.00)\n",
    "    ax.tick_params(which='major', length=5)\n",
    "    ax.tick_params(which='minor', width=0.75)\n",
    "    ax.tick_params(which='minor', length=2.5)\n",
    "    ax.set_xlim(np.min(L)-1, np.max(L)+1)\n",
    "    ax.set_ylim(0, 0.1)\n",
    "    ax.patch.set_alpha(0.0)"
   ]
  },
  {
   "cell_type": "code",
   "execution_count": 262,
   "metadata": {},
   "outputs": [
    {
     "data": {
      "image/png": "[encoded data removed]",
      "text/plain": [
       "<Figure size 1300x50 with 1 Axes>"
      ]
     },
     "metadata": {},
     "output_type": "display_data"
    }
   ],
   "source": [
    "def plot(A: np.array):\n",
    "    fig, ax = plt.subplots(figsize=(13,0.5))\n",
    "    setup(ax, A)\n",
    "    ax.scatter(A, np.zeros(len(A)))\n",
    "    ax.xaxis.set_major_locator(ticker.AutoLocator())\n",
    "    ax.xaxis.set_minor_locator(ticker.AutoMinorLocator())\n",
    "    plt.show()\n",
    "\n",
    "plot(my_numbers)"
   ]
  },
  {
   "cell_type": "markdown",
   "metadata": {},
   "source": [
    "As we can see, this is F(2, 3, -1, 2), concluding the notebook. $\\blacksquare$"
   ]
  },
  {
   "cell_type": "code",
   "execution_count": 253,
   "metadata": {},
   "outputs": [
    {
     "data": {
      "image/png": "[encoded data removed]",
      "text/plain": [
       "<Figure size 2000x50 with 1 Axes>"
      ]
     },
     "metadata": {},
     "output_type": "display_data"
    }
   ],
   "source": [
    "plot(GenerateMachineNumbers(3, -2, 2))"
   ]
  },
  {
   "cell_type": "markdown",
   "metadata": {},
   "source": []
  },
  {
   "cell_type": "markdown",
   "metadata": {},
   "source": []
  }
 ],
 "metadata": {
  "kernelspec": {
   "display_name": "base",
   "language": "python",
   "name": "python3"
  },
  "language_info": {
   "codemirror_mode": {
    "name": "ipython",
    "version": 3
   },
   "file_extension": ".py",
   "mimetype": "text/x-python",
   "name": "python",
   "nbconvert_exporter": "python",
   "pygments_lexer": "ipython3",
   "version": "3.12.7"
  }
 },
 "nbformat": 4,
 "nbformat_minor": 2
}
